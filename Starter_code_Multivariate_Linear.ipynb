{
 "cells": [
  {
   "cell_type": "code",
   "execution_count": 2,
   "metadata": {},
   "outputs": [],
   "source": [
    "import pandas as pd\n",
    "%matplotlib inline\n",
    "import matplotlib.pyplot as plt"
   ]
  },
  {
   "cell_type": "code",
   "execution_count": 43,
   "metadata": {},
   "outputs": [
    {
     "data": {
      "text/html": [
       "<div>\n",
       "<style scoped>\n",
       "    .dataframe tbody tr th:only-of-type {\n",
       "        vertical-align: middle;\n",
       "    }\n",
       "\n",
       "    .dataframe tbody tr th {\n",
       "        vertical-align: top;\n",
       "    }\n",
       "\n",
       "    .dataframe thead th {\n",
       "        text-align: right;\n",
       "    }\n",
       "</style>\n",
       "<table border=\"1\" class=\"dataframe\">\n",
       "  <thead>\n",
       "    <tr style=\"text-align: right;\">\n",
       "      <th></th>\n",
       "      <th>Day</th>\n",
       "      <th>Site Key</th>\n",
       "      <th>Site Name</th>\n",
       "      <th>Ad Spend</th>\n",
       "      <th>Impressions</th>\n",
       "      <th>Clicks</th>\n",
       "      <th>Room Orders</th>\n",
       "      <th>Room Revenue*</th>\n",
       "      <th>Room Nights</th>\n",
       "      <th>Measurable Impressions</th>\n",
       "      <th>Viewable Impressions</th>\n",
       "    </tr>\n",
       "  </thead>\n",
       "  <tbody>\n",
       "    <tr>\n",
       "      <th>0</th>\n",
       "      <td>2018-01-01</td>\n",
       "      <td>1506504</td>\n",
       "      <td>smartervegas.com</td>\n",
       "      <td>161.290323</td>\n",
       "      <td>0.0</td>\n",
       "      <td>46.0</td>\n",
       "      <td>2</td>\n",
       "      <td>875.669643</td>\n",
       "      <td>4</td>\n",
       "      <td>NaN</td>\n",
       "      <td>NaN</td>\n",
       "    </tr>\n",
       "    <tr>\n",
       "      <th>1</th>\n",
       "      <td>2018-01-01</td>\n",
       "      <td>1506505</td>\n",
       "      <td>TripAdvisor</td>\n",
       "      <td>2437.214000</td>\n",
       "      <td>93739.0</td>\n",
       "      <td>135.0</td>\n",
       "      <td>5</td>\n",
       "      <td>3057.250000</td>\n",
       "      <td>12</td>\n",
       "      <td>91789.0</td>\n",
       "      <td>70128.0</td>\n",
       "    </tr>\n",
       "    <tr>\n",
       "      <th>2</th>\n",
       "      <td>2018-01-01</td>\n",
       "      <td>1506499</td>\n",
       "      <td>kayak.com</td>\n",
       "      <td>263.420000</td>\n",
       "      <td>30263.0</td>\n",
       "      <td>56.0</td>\n",
       "      <td>2</td>\n",
       "      <td>1593.410714</td>\n",
       "      <td>7</td>\n",
       "      <td>8591.0</td>\n",
       "      <td>3819.0</td>\n",
       "    </tr>\n",
       "    <tr>\n",
       "      <th>3</th>\n",
       "      <td>2018-01-01</td>\n",
       "      <td>1506508</td>\n",
       "      <td>yelp.com</td>\n",
       "      <td>15.483871</td>\n",
       "      <td>0.0</td>\n",
       "      <td>54.0</td>\n",
       "      <td>0</td>\n",
       "      <td>0.000000</td>\n",
       "      <td>0</td>\n",
       "      <td>NaN</td>\n",
       "      <td>NaN</td>\n",
       "    </tr>\n",
       "    <tr>\n",
       "      <th>4</th>\n",
       "      <td>2018-01-01</td>\n",
       "      <td>Search</td>\n",
       "      <td>Search</td>\n",
       "      <td>0.000000</td>\n",
       "      <td>NaN</td>\n",
       "      <td>NaN</td>\n",
       "      <td>0</td>\n",
       "      <td>0.000000</td>\n",
       "      <td>0</td>\n",
       "      <td>NaN</td>\n",
       "      <td>NaN</td>\n",
       "    </tr>\n",
       "  </tbody>\n",
       "</table>\n",
       "</div>"
      ],
      "text/plain": [
       "         Day Site Key         Site Name     Ad Spend  Impressions  Clicks  \\\n",
       "0 2018-01-01  1506504  smartervegas.com   161.290323          0.0    46.0   \n",
       "1 2018-01-01  1506505       TripAdvisor  2437.214000      93739.0   135.0   \n",
       "2 2018-01-01  1506499         kayak.com   263.420000      30263.0    56.0   \n",
       "3 2018-01-01  1506508          yelp.com    15.483871          0.0    54.0   \n",
       "4 2018-01-01   Search            Search     0.000000          NaN     NaN   \n",
       "\n",
       "   Room Orders  Room Revenue*  Room Nights  Measurable Impressions  \\\n",
       "0            2     875.669643            4                     NaN   \n",
       "1            5    3057.250000           12                 91789.0   \n",
       "2            2    1593.410714            7                  8591.0   \n",
       "3            0       0.000000            0                     NaN   \n",
       "4            0       0.000000            0                     NaN   \n",
       "\n",
       "   Viewable Impressions  \n",
       "0                   NaN  \n",
       "1               70128.0  \n",
       "2                3819.0  \n",
       "3                   NaN  \n",
       "4                   NaN  "
      ]
     },
     "execution_count": 43,
     "metadata": {},
     "output_type": "execute_result"
    }
   ],
   "source": [
    "## Read one file and adjust 'skiprows'\n",
    "\n",
    "file = \"2. A Rooms_Marketing_20180101-20180331.xlsx\"\n",
    "Q1_2018 = pd.read_excel(file, skiprows=6)\n",
    "Q1_2018.head()"
   ]
  },
  {
   "cell_type": "code",
   "execution_count": 4,
   "metadata": {},
   "outputs": [],
   "source": [
    "## Combine all files via loop and store it as a combined data frame called 'all_data'\n",
    "\n",
    "file_list = [\"2. A Rooms_Marketing_20180101-20180331.xlsx\", \"2. A Rooms_Marketing_20180401-20180630.xlsx\", \\\n",
    "             \"2. A Rooms_Marketing_20180701-20180930.xlsx\", \"2. A Rooms_Marketing_20181001-20181231.xlsx\", \\\n",
    "             \"2. A Rooms_Marketing_20190101-20190331.xlsx\",\"2. A Rooms_Marketing_20190401-20190630.xlsx\", \\\n",
    "             \"2. A Rooms_Marketing_20190701-20190930.xlsx\"]\n",
    "\n",
    "all_data = pd.DataFrame()\n",
    "\n",
    "for file in file_list:\n",
    "    df = pd.read_excel(file, skiprows=6)\n",
    "    all_data = all_data.append(df, ignore_index=True)\n"
   ]
  },
  {
   "cell_type": "code",
   "execution_count": 45,
   "metadata": {},
   "outputs": [
    {
     "data": {
      "text/plain": [
       "(19161, 11)"
      ]
     },
     "execution_count": 45,
     "metadata": {},
     "output_type": "execute_result"
    }
   ],
   "source": [
    "## Check if it worked and overall stats\n",
    "\n",
    "# all_data.head()\n",
    "# all_data.describe()\n",
    "all_data.shape"
   ]
  },
  {
   "cell_type": "code",
   "execution_count": 46,
   "metadata": {},
   "outputs": [
    {
     "data": {
      "text/html": [
       "<div>\n",
       "<style scoped>\n",
       "    .dataframe tbody tr th:only-of-type {\n",
       "        vertical-align: middle;\n",
       "    }\n",
       "\n",
       "    .dataframe tbody tr th {\n",
       "        vertical-align: top;\n",
       "    }\n",
       "\n",
       "    .dataframe thead th {\n",
       "        text-align: right;\n",
       "    }\n",
       "</style>\n",
       "<table border=\"1\" class=\"dataframe\">\n",
       "  <thead>\n",
       "    <tr style=\"text-align: right;\">\n",
       "      <th></th>\n",
       "      <th>Day</th>\n",
       "      <th>Site Key</th>\n",
       "      <th>Site Name</th>\n",
       "      <th>Ad Spend</th>\n",
       "      <th>Impressions</th>\n",
       "      <th>Clicks</th>\n",
       "      <th>Room Orders</th>\n",
       "      <th>Room Revenue*</th>\n",
       "      <th>Room Nights</th>\n",
       "      <th>Measurable Impressions</th>\n",
       "      <th>Viewable Impressions</th>\n",
       "    </tr>\n",
       "  </thead>\n",
       "  <tbody>\n",
       "    <tr>\n",
       "      <th>0</th>\n",
       "      <td>False</td>\n",
       "      <td>False</td>\n",
       "      <td>False</td>\n",
       "      <td>False</td>\n",
       "      <td>False</td>\n",
       "      <td>False</td>\n",
       "      <td>False</td>\n",
       "      <td>False</td>\n",
       "      <td>False</td>\n",
       "      <td>True</td>\n",
       "      <td>True</td>\n",
       "    </tr>\n",
       "    <tr>\n",
       "      <th>1</th>\n",
       "      <td>False</td>\n",
       "      <td>False</td>\n",
       "      <td>False</td>\n",
       "      <td>False</td>\n",
       "      <td>False</td>\n",
       "      <td>False</td>\n",
       "      <td>False</td>\n",
       "      <td>False</td>\n",
       "      <td>False</td>\n",
       "      <td>False</td>\n",
       "      <td>False</td>\n",
       "    </tr>\n",
       "    <tr>\n",
       "      <th>2</th>\n",
       "      <td>False</td>\n",
       "      <td>False</td>\n",
       "      <td>False</td>\n",
       "      <td>False</td>\n",
       "      <td>False</td>\n",
       "      <td>False</td>\n",
       "      <td>False</td>\n",
       "      <td>False</td>\n",
       "      <td>False</td>\n",
       "      <td>False</td>\n",
       "      <td>False</td>\n",
       "    </tr>\n",
       "    <tr>\n",
       "      <th>3</th>\n",
       "      <td>False</td>\n",
       "      <td>False</td>\n",
       "      <td>False</td>\n",
       "      <td>False</td>\n",
       "      <td>False</td>\n",
       "      <td>False</td>\n",
       "      <td>False</td>\n",
       "      <td>False</td>\n",
       "      <td>False</td>\n",
       "      <td>True</td>\n",
       "      <td>True</td>\n",
       "    </tr>\n",
       "    <tr>\n",
       "      <th>4</th>\n",
       "      <td>False</td>\n",
       "      <td>False</td>\n",
       "      <td>False</td>\n",
       "      <td>False</td>\n",
       "      <td>True</td>\n",
       "      <td>True</td>\n",
       "      <td>False</td>\n",
       "      <td>False</td>\n",
       "      <td>False</td>\n",
       "      <td>True</td>\n",
       "      <td>True</td>\n",
       "    </tr>\n",
       "  </tbody>\n",
       "</table>\n",
       "</div>"
      ],
      "text/plain": [
       "     Day  Site Key  Site Name  Ad Spend  Impressions  Clicks  Room Orders  \\\n",
       "0  False     False      False     False        False   False        False   \n",
       "1  False     False      False     False        False   False        False   \n",
       "2  False     False      False     False        False   False        False   \n",
       "3  False     False      False     False        False   False        False   \n",
       "4  False     False      False     False         True    True        False   \n",
       "\n",
       "   Room Revenue*  Room Nights  Measurable Impressions  Viewable Impressions  \n",
       "0          False        False                    True                  True  \n",
       "1          False        False                   False                 False  \n",
       "2          False        False                   False                 False  \n",
       "3          False        False                    True                  True  \n",
       "4          False        False                    True                  True  "
      ]
     },
     "execution_count": 46,
     "metadata": {},
     "output_type": "execute_result"
    }
   ],
   "source": [
    "# Cleaning null values\n",
    "\n",
    "clean = all_data.dropna(subset=['Ad Spend', 'Room Revenue*'])\n",
    "clean.shape"
   ]
  },
  {
   "cell_type": "code",
   "execution_count": 53,
   "metadata": {},
   "outputs": [],
   "source": [
    "clean.to_excel('output1.xlsx')"
   ]
  },
  {
   "cell_type": "code",
   "execution_count": 7,
   "metadata": {},
   "outputs": [
    {
     "data": {
      "text/html": [
       "<div>\n",
       "<style scoped>\n",
       "    .dataframe tbody tr th:only-of-type {\n",
       "        vertical-align: middle;\n",
       "    }\n",
       "\n",
       "    .dataframe tbody tr th {\n",
       "        vertical-align: top;\n",
       "    }\n",
       "\n",
       "    .dataframe thead th {\n",
       "        text-align: right;\n",
       "    }\n",
       "</style>\n",
       "<table border=\"1\" class=\"dataframe\">\n",
       "  <thead>\n",
       "    <tr style=\"text-align: right;\">\n",
       "      <th></th>\n",
       "      <th>Day</th>\n",
       "      <th>Site Key</th>\n",
       "      <th>Site Name</th>\n",
       "      <th>Ad Spend</th>\n",
       "      <th>Impressions</th>\n",
       "      <th>Clicks</th>\n",
       "      <th>Room Orders</th>\n",
       "      <th>Room Revenue*</th>\n",
       "      <th>Room Nights</th>\n",
       "      <th>Measurable Impressions</th>\n",
       "      <th>Viewable Impressions</th>\n",
       "    </tr>\n",
       "  </thead>\n",
       "  <tbody>\n",
       "    <tr>\n",
       "      <th>1</th>\n",
       "      <td>False</td>\n",
       "      <td>False</td>\n",
       "      <td>False</td>\n",
       "      <td>False</td>\n",
       "      <td>False</td>\n",
       "      <td>False</td>\n",
       "      <td>False</td>\n",
       "      <td>False</td>\n",
       "      <td>False</td>\n",
       "      <td>False</td>\n",
       "      <td>False</td>\n",
       "    </tr>\n",
       "    <tr>\n",
       "      <th>2</th>\n",
       "      <td>False</td>\n",
       "      <td>False</td>\n",
       "      <td>False</td>\n",
       "      <td>False</td>\n",
       "      <td>False</td>\n",
       "      <td>False</td>\n",
       "      <td>False</td>\n",
       "      <td>False</td>\n",
       "      <td>False</td>\n",
       "      <td>False</td>\n",
       "      <td>False</td>\n",
       "    </tr>\n",
       "    <tr>\n",
       "      <th>5</th>\n",
       "      <td>False</td>\n",
       "      <td>False</td>\n",
       "      <td>False</td>\n",
       "      <td>False</td>\n",
       "      <td>False</td>\n",
       "      <td>False</td>\n",
       "      <td>False</td>\n",
       "      <td>False</td>\n",
       "      <td>False</td>\n",
       "      <td>False</td>\n",
       "      <td>False</td>\n",
       "    </tr>\n",
       "    <tr>\n",
       "      <th>8</th>\n",
       "      <td>False</td>\n",
       "      <td>False</td>\n",
       "      <td>False</td>\n",
       "      <td>False</td>\n",
       "      <td>False</td>\n",
       "      <td>False</td>\n",
       "      <td>False</td>\n",
       "      <td>False</td>\n",
       "      <td>False</td>\n",
       "      <td>False</td>\n",
       "      <td>False</td>\n",
       "    </tr>\n",
       "    <tr>\n",
       "      <th>10</th>\n",
       "      <td>False</td>\n",
       "      <td>False</td>\n",
       "      <td>False</td>\n",
       "      <td>False</td>\n",
       "      <td>False</td>\n",
       "      <td>False</td>\n",
       "      <td>False</td>\n",
       "      <td>False</td>\n",
       "      <td>False</td>\n",
       "      <td>False</td>\n",
       "      <td>False</td>\n",
       "    </tr>\n",
       "  </tbody>\n",
       "</table>\n",
       "</div>"
      ],
      "text/plain": [
       "      Day  Site Key  Site Name  Ad Spend  Impressions  Clicks  Room Orders  \\\n",
       "1   False     False      False     False        False   False        False   \n",
       "2   False     False      False     False        False   False        False   \n",
       "5   False     False      False     False        False   False        False   \n",
       "8   False     False      False     False        False   False        False   \n",
       "10  False     False      False     False        False   False        False   \n",
       "\n",
       "    Room Revenue*  Room Nights  Measurable Impressions  Viewable Impressions  \n",
       "1           False        False                   False                 False  \n",
       "2           False        False                   False                 False  \n",
       "5           False        False                   False                 False  \n",
       "8           False        False                   False                 False  \n",
       "10          False        False                   False                 False  "
      ]
     },
     "execution_count": 7,
     "metadata": {},
     "output_type": "execute_result"
    }
   ],
   "source": [
    "## Dropped Null values from ad spend and revenue column as a start\n",
    "\n",
    "clean_simple_df = all_data.dropna(subset=['Ad Spend', 'Room Revenue*', 'Impressions', 'Clicks', 'Viewable Impressions'])\n",
    "\n",
    "clean_simple_df.isna().head()"
   ]
  },
  {
   "cell_type": "code",
   "execution_count": 11,
   "metadata": {},
   "outputs": [
    {
     "name": "stdout",
     "output_type": "stream",
     "text": [
      "Shape:  (7512, 4) (7512, 1)\n"
     ]
    }
   ],
   "source": [
    "# X = all_data[\"weight\"].values.reshape(-1, 1)\n",
    "# y = all_data[\"size\"].values.reshape(-1, 1)\n",
    "\n",
    "\n",
    "X = clean_simple_df[[\"Ad Spend\", \"Impressions\", \"Clicks\", \"Viewable Impressions\"]]\n",
    "y = clean_simple_df[\"Room Revenue*\"].values.reshape(-1, 1)\n",
    "\n",
    "print(\"Shape: \", X.shape, y.shape)"
   ]
  },
  {
   "cell_type": "code",
   "execution_count": 12,
   "metadata": {},
   "outputs": [],
   "source": [
    "from sklearn.linear_model import LinearRegression\n",
    "from sklearn.metrics import mean_squared_error, r2_score\n",
    "from sklearn.model_selection import train_test_split\n",
    "\n",
    "model = LinearRegression()\n",
    "\n",
    "X_train, X_test, y_train, y_test = train_test_split(X, y, random_state=42)"
   ]
  },
  {
   "cell_type": "code",
   "execution_count": 13,
   "metadata": {},
   "outputs": [
    {
     "data": {
      "text/plain": [
       "LinearRegression(copy_X=True, fit_intercept=True, n_jobs=None,\n",
       "         normalize=False)"
      ]
     },
     "execution_count": 13,
     "metadata": {},
     "output_type": "execute_result"
    }
   ],
   "source": [
    "model.fit(X_train, y_train)"
   ]
  },
  {
   "cell_type": "code",
   "execution_count": 14,
   "metadata": {},
   "outputs": [
    {
     "name": "stdout",
     "output_type": "stream",
     "text": [
      "Mean Squared Error (MSE): 37545791.00919602\n",
      "R-squared (R2 ): 0.15612272566903618\n"
     ]
    }
   ],
   "source": [
    "# Use our model to make predictions\n",
    "predicted = model.predict(X_test)\n",
    "\n",
    "# Score the predictions with mse and r2\n",
    "mse = mean_squared_error(y_test, predicted)\n",
    "r2 = r2_score(y_test, predicted)\n",
    "\n",
    "print(f\"Mean Squared Error (MSE): {mse}\")\n",
    "print(f\"R-squared (R2 ): {r2}\")"
   ]
  },
  {
   "cell_type": "code",
   "execution_count": 15,
   "metadata": {},
   "outputs": [
    {
     "data": {
      "text/plain": [
       "0.16464066665152233"
      ]
     },
     "execution_count": 15,
     "metadata": {},
     "output_type": "execute_result"
    }
   ],
   "source": [
    "model.score(X, y)"
   ]
  },
  {
   "cell_type": "code",
   "execution_count": 16,
   "metadata": {},
   "outputs": [
    {
     "data": {
      "text/plain": [
       "0.15612272566903618"
      ]
     },
     "execution_count": 16,
     "metadata": {},
     "output_type": "execute_result"
    }
   ],
   "source": [
    "model.score(X_train, y_train)\n",
    "model.score(X_test, y_test)"
   ]
  },
  {
   "cell_type": "code",
   "execution_count": 25,
   "metadata": {},
   "outputs": [
    {
     "data": {
      "text/html": [
       "<div>\n",
       "<style scoped>\n",
       "    .dataframe tbody tr th:only-of-type {\n",
       "        vertical-align: middle;\n",
       "    }\n",
       "\n",
       "    .dataframe tbody tr th {\n",
       "        vertical-align: top;\n",
       "    }\n",
       "\n",
       "    .dataframe thead th {\n",
       "        text-align: right;\n",
       "    }\n",
       "</style>\n",
       "<table border=\"1\" class=\"dataframe\">\n",
       "  <thead>\n",
       "    <tr style=\"text-align: right;\">\n",
       "      <th></th>\n",
       "      <th>Day</th>\n",
       "      <th>Site Key</th>\n",
       "      <th>Site Name</th>\n",
       "      <th>Ad Spend</th>\n",
       "      <th>Impressions</th>\n",
       "      <th>Clicks</th>\n",
       "      <th>Room Orders</th>\n",
       "      <th>Room Revenue*</th>\n",
       "      <th>Room Nights</th>\n",
       "      <th>Measurable Impressions</th>\n",
       "      <th>Viewable Impressions</th>\n",
       "    </tr>\n",
       "  </thead>\n",
       "  <tbody>\n",
       "    <tr>\n",
       "      <th>10</th>\n",
       "      <td>2018-01-01</td>\n",
       "      <td>1889304</td>\n",
       "      <td>The Trade Desk</td>\n",
       "      <td>1899.658308</td>\n",
       "      <td>96619.0</td>\n",
       "      <td>168.0</td>\n",
       "      <td>8</td>\n",
       "      <td>8671.633929</td>\n",
       "      <td>31.0</td>\n",
       "      <td>82918.0</td>\n",
       "      <td>54617.0</td>\n",
       "    </tr>\n",
       "    <tr>\n",
       "      <th>24</th>\n",
       "      <td>2018-01-02</td>\n",
       "      <td>1889304</td>\n",
       "      <td>The Trade Desk</td>\n",
       "      <td>2128.555933</td>\n",
       "      <td>90854.0</td>\n",
       "      <td>153.0</td>\n",
       "      <td>10</td>\n",
       "      <td>8139.187500</td>\n",
       "      <td>34.0</td>\n",
       "      <td>80631.0</td>\n",
       "      <td>56445.0</td>\n",
       "    </tr>\n",
       "    <tr>\n",
       "      <th>49</th>\n",
       "      <td>2018-01-03</td>\n",
       "      <td>1889304</td>\n",
       "      <td>The Trade Desk</td>\n",
       "      <td>2088.023260</td>\n",
       "      <td>84084.0</td>\n",
       "      <td>104.0</td>\n",
       "      <td>14</td>\n",
       "      <td>8919.687500</td>\n",
       "      <td>33.0</td>\n",
       "      <td>73677.0</td>\n",
       "      <td>51118.0</td>\n",
       "    </tr>\n",
       "    <tr>\n",
       "      <th>74</th>\n",
       "      <td>2018-01-04</td>\n",
       "      <td>1889304</td>\n",
       "      <td>The Trade Desk</td>\n",
       "      <td>2213.009810</td>\n",
       "      <td>96404.0</td>\n",
       "      <td>105.0</td>\n",
       "      <td>25</td>\n",
       "      <td>20460.267857</td>\n",
       "      <td>74.0</td>\n",
       "      <td>82421.0</td>\n",
       "      <td>56954.0</td>\n",
       "    </tr>\n",
       "    <tr>\n",
       "      <th>101</th>\n",
       "      <td>2018-01-05</td>\n",
       "      <td>1889304</td>\n",
       "      <td>The Trade Desk</td>\n",
       "      <td>1918.672377</td>\n",
       "      <td>97065.0</td>\n",
       "      <td>100.0</td>\n",
       "      <td>25</td>\n",
       "      <td>17243.098214</td>\n",
       "      <td>64.0</td>\n",
       "      <td>80896.0</td>\n",
       "      <td>54847.0</td>\n",
       "    </tr>\n",
       "  </tbody>\n",
       "</table>\n",
       "</div>"
      ],
      "text/plain": [
       "           Day Site Key       Site Name     Ad Spend  Impressions  Clicks  \\\n",
       "10  2018-01-01  1889304  The Trade Desk  1899.658308      96619.0   168.0   \n",
       "24  2018-01-02  1889304  The Trade Desk  2128.555933      90854.0   153.0   \n",
       "49  2018-01-03  1889304  The Trade Desk  2088.023260      84084.0   104.0   \n",
       "74  2018-01-04  1889304  The Trade Desk  2213.009810      96404.0   105.0   \n",
       "101 2018-01-05  1889304  The Trade Desk  1918.672377      97065.0   100.0   \n",
       "\n",
       "     Room Orders  Room Revenue*  Room Nights  Measurable Impressions  \\\n",
       "10             8    8671.633929         31.0                 82918.0   \n",
       "24            10    8139.187500         34.0                 80631.0   \n",
       "49            14    8919.687500         33.0                 73677.0   \n",
       "74            25   20460.267857         74.0                 82421.0   \n",
       "101           25   17243.098214         64.0                 80896.0   \n",
       "\n",
       "     Viewable Impressions  \n",
       "10                54617.0  \n",
       "24                56445.0  \n",
       "49                51118.0  \n",
       "74                56954.0  \n",
       "101               54847.0  "
      ]
     },
     "execution_count": 25,
     "metadata": {},
     "output_type": "execute_result"
    }
   ],
   "source": [
    "## test for one publisher\n",
    "trade_desk = clean_simple_df.loc[clean_simple_df['Site Name']=='The Trade Desk']\n",
    "trade_desk.head()"
   ]
  },
  {
   "cell_type": "code",
   "execution_count": 39,
   "metadata": {},
   "outputs": [
    {
     "name": "stdout",
     "output_type": "stream",
     "text": [
      "Shape:  (632, 4) (632, 1)\n"
     ]
    }
   ],
   "source": [
    "X_trade_desk = trade_desk[[\"Ad Spend\", \"Impressions\", \"Clicks\", \"Viewable Impressions\"]]\n",
    "y_trade_desk = trade_desk[\"Room Revenue*\"].values.reshape(-1, 1)\n",
    "\n",
    "print(\"Shape: \", X_trade_desk.shape, y_trade_desk.shape)"
   ]
  },
  {
   "cell_type": "code",
   "execution_count": 40,
   "metadata": {},
   "outputs": [],
   "source": [
    "model = LinearRegression()\n",
    "\n",
    "X_train, X_test, y_train, y_test = train_test_split(X_trade_desk, y_trade_desk, random_state=42)"
   ]
  },
  {
   "cell_type": "code",
   "execution_count": 41,
   "metadata": {},
   "outputs": [
    {
     "data": {
      "text/plain": [
       "LinearRegression(copy_X=True, fit_intercept=True, n_jobs=None,\n",
       "         normalize=False)"
      ]
     },
     "execution_count": 41,
     "metadata": {},
     "output_type": "execute_result"
    }
   ],
   "source": [
    "model.fit(X_train, y_train)"
   ]
  },
  {
   "cell_type": "code",
   "execution_count": 38,
   "metadata": {},
   "outputs": [
    {
     "name": "stdout",
     "output_type": "stream",
     "text": [
      "Mean Squared Error (MSE): 19602639.34513716\n",
      "R-squared (R2 ): 0.1723631205788646\n"
     ]
    }
   ],
   "source": [
    "# Use our model to make predictions\n",
    "predicted = model.predict(X_test)\n",
    "\n",
    "# Score the predictions with mse and r2\n",
    "mse = mean_squared_error(y_test, predicted)\n",
    "r2 = r2_score(y_test, predicted)\n",
    "\n",
    "print(f\"Mean Squared Error (MSE): {mse}\")\n",
    "print(f\"R-squared (R2 ): {r2}\")"
   ]
  },
  {
   "cell_type": "code",
   "execution_count": null,
   "metadata": {},
   "outputs": [],
   "source": []
  }
 ],
 "metadata": {
  "kernelspec": {
   "display_name": "Python 3",
   "language": "python",
   "name": "python3"
  },
  "language_info": {
   "codemirror_mode": {
    "name": "ipython",
    "version": 3
   },
   "file_extension": ".py",
   "mimetype": "text/x-python",
   "name": "python",
   "nbconvert_exporter": "python",
   "pygments_lexer": "ipython3",
   "version": "3.7.3"
  }
 },
 "nbformat": 4,
 "nbformat_minor": 2
}
